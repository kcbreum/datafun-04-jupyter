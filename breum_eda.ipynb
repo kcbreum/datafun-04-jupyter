{
 "cells": [
  {
   "cell_type": "markdown",
   "id": "4dac8d12-9672-4a80-b059-8db58cc1707d",
   "metadata": {},
   "source": [
    "# Project 4 - Jupyter Notebook\n",
    "## By: Kayla Breum, guided by Denise Case\n",
    "### The purpose of this project is to use a combination of Python and Markdown to demonstrate the skills needed to create an initial data story in Jupyter Notebook through guided exploratory data analysis."
   ]
  },
  {
   "cell_type": "code",
   "execution_count": null,
   "id": "5480737f-b4fa-40fb-a1fa-2cde44e8471e",
   "metadata": {},
   "outputs": [],
   "source": [
    "# Import dependencies\n",
    "import matplotlib.pyplot as plt\n",
    "import pandas as pd\n",
    "import seaborn as sns"
   ]
  },
  {
   "cell_type": "code",
   "execution_count": null,
   "id": "f01310b0-6b3f-4f99-acbf-2ad4635e9875",
   "metadata": {},
   "outputs": [],
   "source": [
    "# Data Acquisition\n",
    "\n",
    "## Load the Iris dataset into DataFrame\n",
    "df = sns.load_dataset('iris')\n",
    "\n",
    "## Inspect first rows of the DataFrame\n",
    "print(df.head())"
   ]
  },
  {
   "cell_type": "code",
   "execution_count": null,
   "id": "741034a0-092a-4cc2-a9a5-96c9a9a4ae73",
   "metadata": {},
   "outputs": [],
   "source": [
    "# Initial Data Inspection\n",
    "print(df.head(10))\n",
    "print(df.shape)\n",
    "print(df.dtypes)"
   ]
  },
  {
   "cell_type": "code",
   "execution_count": null,
   "id": "2f7eef70-8ab5-4ae1-84ca-a5553e6f0144",
   "metadata": {},
   "outputs": [],
   "source": [
    "# Initial Descriptive Statistics\n",
    "print(df.describe())"
   ]
  },
  {
   "cell_type": "code",
   "execution_count": null,
   "id": "0845017c-0f4b-41c4-a868-1edf6f437249",
   "metadata": {},
   "outputs": [],
   "source": [
    "# Initial Data Distribution for Numerical Columns\n",
    "\n",
    "## Inspect histogram by numerical column\n",
    "df['sepal_length'].hist()\n",
    "\n",
    "## Inspect histograms for all numerical columns\n",
    "df.hist()\n",
    "\n",
    "## Show all plots\n",
    "plt.show()"
   ]
  },
  {
   "cell_type": "markdown",
   "id": "bf528e54-1bef-47b4-8d49-75595a695357",
   "metadata": {},
   "source": [
    "## Numerical column observation\r\n",
    "\r\n",
    "The majority of irises have a sepal length of around 5.5 and around 6.3, but there is a noticeable gap between these numbers that show few irisus have a sepal length of 6.0.\r\n",
    "The width of a sepal trends upward up until about 3.2, in which it drastically declines.\r\n",
    "Based on only these histograms, there could be a correlation between petal length and petal width, as they form similar patterns."
   ]
  },
  {
   "cell_type": "code",
   "execution_count": null,
   "id": "55bc0529-8d1f-4eed-a103-5042c94e552f",
   "metadata": {},
   "outputs": [],
   "source": [
    "# Inspect value counts by categorical column\n",
    "df['species'].value_counts()\n",
    "\n",
    "## Inspect value counts for all categorical columns\n",
    "for col in df.select_dtypes(include=['object', 'category']).columns:\n",
    "    # Display count plot\n",
    "    sns.countplot(x=col, data=df)\n",
    "    plt.title(f'Distribution of {col}')\n",
    "    plt.show()\n",
    "\n",
    "# Show all plots\n",
    "plt.show()"
   ]
  },
  {
   "cell_type": "markdown",
   "id": "8c3f2813-e071-440c-8c04-01cd05531d70",
   "metadata": {},
   "source": [
    "## Categorical column observations\r\n",
    "\r\n",
    "The species of iris in the sample are equally distributed among three types."
   ]
  },
  {
   "cell_type": "code",
   "execution_count": null,
   "id": "528b9794-1bf5-4132-b143-dd72bbaccb07",
   "metadata": {},
   "outputs": [],
   "source": [
    "# Data Transformation and feature engineering\n",
    "## Renaming a column\n",
    "df.rename(columns={'sepal_length': 'Sepal Length'}, inplace=True)\n",
    "df.rename(columns={'sepal_width': 'Sepal Width'}, inplace=True)\n",
    "df.rename(columns={'petal_length': 'Petal Length'}, inplace=True)\n",
    "df.rename(columns={'petal_length': 'Petal Length'}, inplace=True)\n",
    "\n",
    "## Adding a new column\n",
    "df['Sepal Area'] = df['Sepal Length'] * df['Petal Width']"
   ]
  },
  {
   "cell_type": "code",
   "execution_count": null,
   "id": "e7bafc82-d99a-44bb-b362-4cc46c25eb06",
   "metadata": {},
   "outputs": [],
   "source": [
    "# Initial Visualizations\n",
    "sns.pairplot(df, hue='species')\n",
    "plt.show()"
   ]
  },
  {
   "cell_type": "markdown",
   "id": "f6ba81ca-85cc-4f94-a026-4b258dddc696",
   "metadata": {},
   "source": [
    "## Visualization Observations\r\n",
    "Titles for columns were renamed for ease of observation\r\n",
    "Colors show categorical distribution\r\n",
    "There seems to be a correlation between Sepal Length and Petal Length in that the species of iris will affect both the length of the sepal and the petal.\r\n",
    "The above could also be true for Sepal Length and Petal Width.\r\n",
    "The same causation could also be said for the correlation between Sepal Width and Petal Length.\r\n",
    "The same causation could also be said for the correlation between Sepal Width and Petal Petal Width.\r\n",
    "There does not seem to be a pattern with Sepal Length and Sepal Area, but it can be said that the setosa species has a noticeably smaller sepal length compared to the other two species.\r\n",
    "There does not seem to be a pattern with Sepal Area and Sepal Width, but it can be said that the setosa specis has a notieceably wider sepal width than the other two species.\r\n",
    "Overall, the setosa species seems to be smaller in all categories compared to the other two species.\r\n",
    "Overall, the versicolor and the virginica seem to be the most similar, with the versicolor being slightly larger in the majority of areas."
   ]
  }
 ],
 "metadata": {
  "kernelspec": {
   "display_name": "Python 3 (ipykernel)",
   "language": "python",
   "name": "python3"
  },
  "language_info": {
   "codemirror_mode": {
    "name": "ipython",
    "version": 3
   },
   "file_extension": ".py",
   "mimetype": "text/x-python",
   "name": "python",
   "nbconvert_exporter": "python",
   "pygments_lexer": "ipython3",
   "version": "3.12.1"
  }
 },
 "nbformat": 4,
 "nbformat_minor": 5
}
