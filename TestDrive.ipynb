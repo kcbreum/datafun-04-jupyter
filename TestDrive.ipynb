{
 "cells": [
  {
   "cell_type": "code",
   "execution_count": 2,
   "id": "615fca4d-f8b8-49be-af98-02c085606649",
   "metadata": {
    "tags": []
   },
   "outputs": [
    {
     "name": "stdout",
     "output_type": "stream",
     "text": [
      "Hello, Jupyter!\n"
     ]
    }
   ],
   "source": [
    "print(\"Hello, Jupyter!\")"
   ]
  },
  {
   "cell_type": "code",
   "execution_count": 2,
   "id": "7e21a551-2e3e-4c44-9ddd-ad6a09a22afe",
   "metadata": {
    "tags": []
   },
   "outputs": [
    {
     "data": {
      "text/plain": [
       "18"
      ]
     },
     "execution_count": 2,
     "metadata": {},
     "output_type": "execute_result"
    }
   ],
   "source": [
    "12+6"
   ]
  },
  {
   "cell_type": "code",
   "execution_count": 3,
   "id": "692d7c8d-7252-4c05-8113-bcd7e41c7709",
   "metadata": {
    "tags": []
   },
   "outputs": [
    {
     "name": "stdout",
     "output_type": "stream",
     "text": [
      "10\n"
     ]
    }
   ],
   "source": [
    "x=4\n",
    "y=5\n",
    "print (x+y+1)"
   ]
  },
  {
   "cell_type": "code",
   "execution_count": 7,
   "id": "cd313895-08d3-4244-964e-01a46384820f",
   "metadata": {
    "tags": []
   },
   "outputs": [
    {
     "name": "stdout",
     "output_type": "stream",
     "text": [
      "this is fun\n"
     ]
    }
   ],
   "source": [
    "print(\"this is fun\")"
   ]
  },
  {
   "cell_type": "code",
   "execution_count": 9,
   "id": "01f18a96-7d5a-466a-9a46-7155b99340e1",
   "metadata": {
    "tags": []
   },
   "outputs": [
    {
     "name": "stdout",
     "output_type": "stream",
     "text": [
      "x+y+z= 6\n"
     ]
    }
   ],
   "source": [
    "x=1\n",
    "y=2\n",
    "z=3\n",
    "print (\"x+y+z=\", x+y+z)"
   ]
  },
  {
   "cell_type": "code",
   "execution_count": 25,
   "id": "27b803bd-ba22-48b8-aa6e-cfea74a59c85",
   "metadata": {
    "tags": []
   },
   "outputs": [
    {
     "name": "stdout",
     "output_type": "stream",
     "text": [
      "206.66666666666666\n"
     ]
    }
   ],
   "source": [
    "tryout_scores = 6200\n",
    "cheerleaders_trying_out = 30\n",
    "score_average = tryout_scores / cheerleaders_trying_out\n",
    "print(score_average)"
   ]
  },
  {
   "cell_type": "code",
   "execution_count": null,
   "id": "21229e13-9519-45c4-ad4a-420e84ee712a",
   "metadata": {},
   "outputs": [],
   "source": []
  }
 ],
 "metadata": {
  "kernelspec": {
   "display_name": "Python 3 (ipykernel)",
   "language": "python",
   "name": "python3"
  },
  "language_info": {
   "codemirror_mode": {
    "name": "ipython",
    "version": 3
   },
   "file_extension": ".py",
   "mimetype": "text/x-python",
   "name": "python",
   "nbconvert_exporter": "python",
   "pygments_lexer": "ipython3",
   "version": "3.11.5"
  }
 },
 "nbformat": 4,
 "nbformat_minor": 5
}
